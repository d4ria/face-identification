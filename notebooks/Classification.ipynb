{
 "cells": [
  {
   "cell_type": "code",
   "execution_count": 27,
   "metadata": {},
   "outputs": [],
   "source": [
    "import pandas as pd\n",
    "import numpy as np\n",
    "import pickle\n",
    "from sklearn.model_selection import train_test_split\n",
    "from sklearn import preprocessing\n",
    "from sklearn.metrics import accuracy_score, f1_score\n",
    "import face_recognition\n",
    "from sklearn.svm import SVC\n",
    "from tqdm import tqdm\n",
    "from scipy import stats"
   ]
  },
  {
   "cell_type": "markdown",
   "metadata": {},
   "source": [
    "Load the data:"
   ]
  },
  {
   "cell_type": "code",
   "execution_count": 2,
   "metadata": {},
   "outputs": [],
   "source": [
    "with open('../data/good_image_ids_list.pkl', 'rb') as f:\n",
    "    good_images = pickle.load(f)\n",
    "with open('../data/face_encodings.pkl', 'rb') as f:\n",
    "    encodings = pd.DataFrame(pickle.load(f))\n",
    "identities = pd.read_table('../annotations/identity_CelebA.txt', delim_whitespace=True)"
   ]
  },
  {
   "cell_type": "markdown",
   "metadata": {},
   "source": [
    "Prepare the data:"
   ]
  },
  {
   "cell_type": "code",
   "execution_count": 3,
   "metadata": {},
   "outputs": [],
   "source": [
    "identities = identities.loc[identities.image_id.isin(good_images)]\n",
    "identity_counts = identities.groupby('identity').count()\n",
    "only_1_photo_people = identity_counts.loc[identity_counts.image_id == 1].index.tolist()\n",
    "identities['person'] = identities.identity.apply(lambda x: 'unknown' if x in only_1_photo_people else str(x))\n",
    "df = encodings.merge(identities, on='image_id')"
   ]
  },
  {
   "cell_type": "markdown",
   "metadata": {},
   "source": [
    "Convert needed values to numpy arrays:"
   ]
  },
  {
   "cell_type": "code",
   "execution_count": 4,
   "metadata": {},
   "outputs": [],
   "source": [
    "y = df.person.to_numpy()\n",
    "x = np.vstack(df.encoding.values)"
   ]
  },
  {
   "cell_type": "markdown",
   "metadata": {},
   "source": [
    "Do the train/test data split:"
   ]
  },
  {
   "cell_type": "code",
   "execution_count": 5,
   "metadata": {},
   "outputs": [],
   "source": [
    "X_train, X_test, y_train, y_test = train_test_split(x, y, test_size=0.2, random_state=42, stratify=y)"
   ]
  },
  {
   "cell_type": "markdown",
   "metadata": {},
   "source": [
    "Check the distributions:"
   ]
  },
  {
   "cell_type": "code",
   "execution_count": 6,
   "metadata": {},
   "outputs": [
    {
     "name": "stdout",
     "output_type": "stream",
     "text": [
      "[['10000' 24]\n",
      " ['10001' 23]\n",
      " ['10003' 22]\n",
      " ...\n",
      " ['9986' 23]\n",
      " ['9987' 23]\n",
      " ['unknown' 34]]\n"
     ]
    }
   ],
   "source": [
    "unique, counts = np.unique(y_train, return_counts=True)\n",
    "print(np.asarray((unique, counts)).T)"
   ]
  },
  {
   "cell_type": "code",
   "execution_count": 7,
   "metadata": {},
   "outputs": [
    {
     "name": "stdout",
     "output_type": "stream",
     "text": [
      "[['10000' 6]\n",
      " ['10001' 5]\n",
      " ['10003' 5]\n",
      " ...\n",
      " ['9986' 6]\n",
      " ['9987' 6]\n",
      " ['unknown' 8]]\n"
     ]
    }
   ],
   "source": [
    "unique, counts = np.unique(y_test, return_counts=True)\n",
    "print(np.asarray((unique, counts)).T)"
   ]
  },
  {
   "cell_type": "markdown",
   "metadata": {},
   "source": [
    "## Models"
   ]
  },
  {
   "cell_type": "markdown",
   "metadata": {},
   "source": [
    "### Distance based prediction"
   ]
  },
  {
   "cell_type": "code",
   "execution_count": 10,
   "metadata": {},
   "outputs": [],
   "source": [
    "list_of_train_encodings = [row for row in X_train]"
   ]
  },
  {
   "cell_type": "code",
   "execution_count": 11,
   "metadata": {},
   "outputs": [
    {
     "name": "stderr",
     "output_type": "stream",
     "text": [
      "100%|████████████████████████████████████████████████████████████████████████████| 13459/13459 [17:28<00:00, 12.84it/s]\n"
     ]
    }
   ],
   "source": [
    "distance_predictions = []\n",
    "for row in tqdm(X_test):\n",
    "    distances = face_recognition.face_distance(list_of_train_encodings, row)\n",
    "    closest = np.argmin(distances)\n",
    "    prediction = y_train[closest]\n",
    "    distance_predictions.append(prediction)"
   ]
  },
  {
   "cell_type": "code",
   "execution_count": 14,
   "metadata": {},
   "outputs": [],
   "source": [
    "distance_predictions = np.array(distance_predictions)"
   ]
  },
  {
   "cell_type": "code",
   "execution_count": 26,
   "metadata": {},
   "outputs": [
    {
     "name": "stdout",
     "output_type": "stream",
     "text": [
      "Accuracy (recognition rate): 0.9485102905119251\n",
      "Macro F1-Score: 0.9454698832241204\n",
      "Unknown people classified as known: 7\n",
      "False acceptance rate: 0.0005200980756371201\n",
      "Known people classified as unknown: 0\n",
      "False reject rate: 0.0\n",
      "Unknown people classified as unknown: 1\n"
     ]
    }
   ],
   "source": [
    "print(f\"Accuracy (recognition rate): {accuracy_score(y_test, distance_predictions)}\")\n",
    "print(f\"Macro F1-Score: {f1_score(y_test, distance_predictions, average='macro')}\")\n",
    "print(f\"Unknown people classified as known: {np.logical_and(y_test == 'unknown', distance_predictions != 'unknown').sum()}\")\n",
    "print(f\"False acceptance rate: {np.logical_and(y_test == 'unknown', distance_predictions != 'unknown').sum() / y_test.size}\")\n",
    "print(f\"Known people classified as unknown: {np.logical_and(y_test != 'unknown', distance_predictions == 'unknown').sum()}\")\n",
    "print(f\"False reject rate: {np.logical_and(y_test != 'unknown', distance_predictions== 'unknown').sum() / y_test.size}\")\n",
    "print(f\"Unknown people classified as unknown: {np.logical_and(y_test == 'unknown', distance_predictions == 'unknown').sum()}\")"
   ]
  },
  {
   "cell_type": "markdown",
   "metadata": {},
   "source": [
    "### Frequency based prediction"
   ]
  },
  {
   "cell_type": "code",
   "execution_count": 28,
   "metadata": {},
   "outputs": [
    {
     "name": "stderr",
     "output_type": "stream",
     "text": [
      "100%|████████████████████████████████████████████████████████████████████████████| 13459/13459 [18:23<00:00, 12.20it/s]\n"
     ]
    }
   ],
   "source": [
    "freq_predictions = []\n",
    "for row in tqdm(X_test):\n",
    "    comparisions = face_recognition.compare_faces(list_of_train_encodings, row)\n",
    "    agreed = y_train[comparisions]\n",
    "    prediction = stats.mode(agreed)\n",
    "    freq_predictions.append(prediction)"
   ]
  },
  {
   "cell_type": "code",
   "execution_count": 35,
   "metadata": {},
   "outputs": [],
   "source": [
    "freq_predictions = np.array(freq_predictions)[:, 0, 0]"
   ]
  },
  {
   "cell_type": "code",
   "execution_count": 36,
   "metadata": {},
   "outputs": [
    {
     "name": "stdout",
     "output_type": "stream",
     "text": [
      "Accuracy (recognition rate): 0.8771825544245486\n",
      "Macro F1-Score: 0.861244222796153\n",
      "Unknown people classified as known: 8\n",
      "False acceptance rate: 0.0005943978007281373\n",
      "Known people classified as unknown: 0\n",
      "False reject rate: 0.0\n",
      "Unknown people classified as unknown: 0\n"
     ]
    }
   ],
   "source": [
    "print(f\"Accuracy (recognition rate): {accuracy_score(y_test, freq_predictions)}\")\n",
    "print(f\"Macro F1-Score: {f1_score(y_test, freq_predictions, average='macro')}\")\n",
    "print(f\"Unknown people classified as known: {np.logical_and(y_test == 'unknown', freq_predictions != 'unknown').sum()}\")\n",
    "print(f\"False acceptance rate: {np.logical_and(y_test == 'unknown', freq_predictions != 'unknown').sum() / y_test.size}\")\n",
    "print(f\"Known people classified as unknown: {np.logical_and(y_test != 'unknown', freq_predictions == 'unknown').sum()}\")\n",
    "print(f\"False reject rate: {np.logical_and(y_test != 'unknown', freq_predictions== 'unknown').sum() / y_test.size}\")\n",
    "print(f\"Unknown people classified as unknown: {np.logical_and(y_test == 'unknown', freq_predictions == 'unknown').sum()}\")"
   ]
  },
  {
   "cell_type": "markdown",
   "metadata": {},
   "source": [
    "### SVM"
   ]
  },
  {
   "cell_type": "code",
   "execution_count": 8,
   "metadata": {},
   "outputs": [
    {
     "data": {
      "text/plain": [
       "SVC()"
      ]
     },
     "execution_count": 8,
     "metadata": {},
     "output_type": "execute_result"
    }
   ],
   "source": [
    "clf = SVC()\n",
    "clf.fit(X_train, y_train)"
   ]
  },
  {
   "cell_type": "code",
   "execution_count": 37,
   "metadata": {},
   "outputs": [
    {
     "name": "stderr",
     "output_type": "stream",
     "text": [
      "100%|████████████████████████████████████████████████████████████████████████████| 13459/13459 [38:14<00:00,  5.87it/s]\n"
     ]
    }
   ],
   "source": [
    "svm_predictions = []\n",
    "for row in tqdm(X_test):\n",
    "    person = clf.predict([row])\n",
    "    svm_predictions.append(person)"
   ]
  },
  {
   "cell_type": "code",
   "execution_count": 39,
   "metadata": {},
   "outputs": [],
   "source": [
    "svm_predictionsl = [ar[0] for ar in svm_predictions]"
   ]
  },
  {
   "cell_type": "code",
   "execution_count": 41,
   "metadata": {},
   "outputs": [
    {
     "name": "stdout",
     "output_type": "stream",
     "text": [
      "Accuracy (recognition rate): 0.9570547588973921\n",
      "Macro F1-Score: 0.9532790829282605\n",
      "Unknown people classified as known: 8\n",
      "False acceptance rate: 0.0005943978007281373\n",
      "Known people classified as unknown: 0\n",
      "False reject rate: 0.0\n",
      "Unknown people classified as unknown: 0\n"
     ]
    }
   ],
   "source": [
    "print(f\"Accuracy (recognition rate): {accuracy_score(y_test, svm_predictionsl)}\")\n",
    "print(f\"Macro F1-Score: {f1_score(y_test, svm_predictionsl, average='macro')}\")\n",
    "print(f\"Unknown people classified as known: {np.logical_and(y_test == 'unknown', svm_predictionsl != 'unknown').sum()}\")\n",
    "print(f\"False acceptance rate: {np.logical_and(y_test == 'unknown', svm_predictionsl != 'unknown').sum() / y_test.size}\")\n",
    "print(f\"Known people classified as unknown: {np.logical_and(y_test != 'unknown', svm_predictionsl == 'unknown').sum()}\")\n",
    "print(f\"False reject rate: {np.logical_and(y_test != 'unknown', svm_predictionsl== 'unknown').sum() / y_test.size}\")\n",
    "print(f\"Unknown people classified as unknown: {np.logical_and(y_test == 'unknown', svm_predictionsl == 'unknown').sum()}\")"
   ]
  }
 ],
 "metadata": {
  "kernelspec": {
   "display_name": "Python 3",
   "language": "python",
   "name": "python3"
  },
  "language_info": {
   "codemirror_mode": {
    "name": "ipython",
    "version": 3
   },
   "file_extension": ".py",
   "mimetype": "text/x-python",
   "name": "python",
   "nbconvert_exporter": "python",
   "pygments_lexer": "ipython3",
   "version": "3.8.5"
  }
 },
 "nbformat": 4,
 "nbformat_minor": 4
}
